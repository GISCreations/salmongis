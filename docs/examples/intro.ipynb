{
 "cells": [
  {
   "cell_type": "code",
   "execution_count": 1,
   "metadata": {},
   "outputs": [],
   "source": [
    "import salmongis\n",
    "import salmongis.graphs as sg\n"
   ]
  },
  {
   "cell_type": "code",
   "execution_count": 2,
   "metadata": {},
   "outputs": [
    {
     "data": {
      "application/vnd.jupyter.widget-view+json": {
       "model_id": "9a498c10ec3f4c90b759f3bcd3e5a5a7",
       "version_major": 2,
       "version_minor": 0
      },
      "text/plain": [
       "Map(center=[40, -100], controls=(ZoomControl(options=['position', 'zoom_in_text', 'zoom_in_title', 'zoom_out_t…"
      ]
     },
     "execution_count": 2,
     "metadata": {},
     "output_type": "execute_result"
    }
   ],
   "source": [
    "m = salmongis.Map(center=[40, -100], zoom=4)\n",
    "\n",
    "# Path to a local NetCDF file\n",
    "dataset_path = \"/Users/owenbales/Desktop/GIS/salmonGIS/Datasets/wind_global.nc\"\n",
    "m.add_dataset(dataset_path)\n",
    "m\n"
   ]
  },
  {
   "cell_type": "code",
   "execution_count": null,
   "metadata": {},
   "outputs": [],
   "source": [
    "m = sg.Map(center=[20, 0], zoom=2)\n",
    "image_options = {\n",
    "    \"Earth Image\": (\n",
    "        \"https://external-content.duckduckgo.com/iu/?u=https%3A%2F%2Ftse1.mm.bing.net%2Fth%3Fid%3DOIP.grVZ3kRlt7o01D-ZdXghAQHaHa%26pid%3DApi&f=1&ipt=e694ed525ceb486bb2648300b88e57d81962ae23076ec4758a344ebdfd6dc7e5&ipo=images\",\n",
    "        [[-90, -200], [90, 200]],\n",
    "    ),\n",
    "    \"Region Image\": (\n",
    "        \"https://example.com/region.png\",\n",
    "        [[10, -50], [20, 50]],\n",
    "    ),\n",
    "}\n",
    "m.add_image_gui(options=image_options)\n",
    "m"
   ]
  }
 ],
 "metadata": {
  "kernelspec": {
   "display_name": "geo",
   "language": "python",
   "name": "python3"
  },
  "language_info": {
   "codemirror_mode": {
    "name": "ipython",
    "version": 3
   },
   "file_extension": ".py",
   "mimetype": "text/x-python",
   "name": "python",
   "nbconvert_exporter": "python",
   "pygments_lexer": "ipython3",
   "version": "3.11.8"
  }
 },
 "nbformat": 4,
 "nbformat_minor": 2
}

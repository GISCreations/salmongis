{
 "cells": [
  {
   "cell_type": "code",
   "execution_count": 3,
   "metadata": {},
   "outputs": [
    {
     "name": "stderr",
     "output_type": "stream",
     "text": [
      "/Users/owenbales/Desktop/GIS/salmongis/salmongis/salmongis.py:109: SyntaxWarning: list indices must be integers or slices, not tuple; perhaps you missed a comma?\n",
      "  bounds = [[-90, -180] [90,1801]]\n",
      "/Users/owenbales/Desktop/GIS/salmongis/salmongis/salmongis.py:121: SyntaxWarning: list indices must be integers or slices, not tuple; perhaps you missed a comma?\n",
      "  bounds = [[-90, -180] [90, 180]]\n"
     ]
    }
   ],
   "source": [
    "import salmongis.graphs as sg\n",
    "import salmongis"
   ]
  },
  {
   "cell_type": "code",
   "execution_count": 6,
   "metadata": {},
   "outputs": [
    {
     "ename": "AttributeError",
     "evalue": "module 'salmongis' has no attribute 'add_wgs_layer'",
     "output_type": "error",
     "traceback": [
      "\u001b[0;31m---------------------------------------------------------------------------\u001b[0m",
      "\u001b[0;31mAttributeError\u001b[0m                            Traceback (most recent call last)",
      "Cell \u001b[0;32mIn[6], line 1\u001b[0m\n\u001b[0;32m----> 1\u001b[0m \u001b[43msalmongis\u001b[49m\u001b[38;5;241;43m.\u001b[39;49m\u001b[43madd_wgs_layer\u001b[49m(\u001b[38;5;124m\"\u001b[39m\u001b[38;5;124mair_temperature\u001b[39m\u001b[38;5;124m\"\u001b[39m)\n",
      "\u001b[0;31mAttributeError\u001b[0m: module 'salmongis' has no attribute 'add_wgs_layer'"
     ]
    }
   ],
   "source": [
    "salmongis.add_wgs_layer(\"air_temperature\")"
   ]
  },
  {
   "cell_type": "code",
   "execution_count": 4,
   "metadata": {},
   "outputs": [
    {
     "data": {
      "application/vnd.jupyter.widget-view+json": {
       "model_id": "5c0c1080abb44e7d8f7ac08bd538381e",
       "version_major": 2,
       "version_minor": 0
      },
      "text/plain": [
       "Map(center=[20, 0], controls=(ZoomControl(options=['position', 'zoom_in_text', 'zoom_in_title', 'zoom_out_text…"
      ]
     },
     "execution_count": 4,
     "metadata": {},
     "output_type": "execute_result"
    }
   ],
   "source": [
    "m = sg.Map(center=[20, 0], zoom=2)\n",
    "image_options = {\n",
    "    \"Earth Image\": (\n",
    "        \"https://external-content.duckduckgo.com/iu/?u=https%3A%2F%2Ftse1.mm.bing.net%2Fth%3Fid%3DOIP.grVZ3kRlt7o01D-ZdXghAQHaHa%26pid%3DApi&f=1&ipt=e694ed525ceb486bb2648300b88e57d81962ae23076ec4758a344ebdfd6dc7e5&ipo=images\",\n",
    "        [[-90, -200], [90, 200]],\n",
    "    ),\n",
    "    \"Region Image\": (\n",
    "        \"https://example.com/region.png\",\n",
    "        [[10, -50], [20, 50]],\n",
    "    ),\n",
    "}\n",
    "m.add_image_gui(options=image_options)\n",
    "m"
   ]
  }
 ],
 "metadata": {
  "kernelspec": {
   "display_name": "geo",
   "language": "python",
   "name": "python3"
  },
  "language_info": {
   "codemirror_mode": {
    "name": "ipython",
    "version": 3
   },
   "file_extension": ".py",
   "mimetype": "text/x-python",
   "name": "python",
   "nbconvert_exporter": "python",
   "pygments_lexer": "ipython3",
   "version": "3.11.8"
  }
 },
 "nbformat": 4,
 "nbformat_minor": 2
}

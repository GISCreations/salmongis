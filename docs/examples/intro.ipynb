{
 "cells": [
  {
   "cell_type": "code",
   "execution_count": null,
   "metadata": {},
   "outputs": [],
   "source": [
    "import salmongis\n",
    "import salmongis.graphs as sg\n"
   ]
  },
  {
   "cell_type": "code",
   "execution_count": null,
   "metadata": {},
   "outputs": [],
   "source": [
    "m = salmongis.Map(center=[40, -100], zoom=4)\n",
    "\n",
    "# Path to a local NetCDF file\n",
    "dataset_path = \"/Users/owenbales/Desktop/GIS/salmonGIS/Datasets/wind_global.nc\"\n",
    "data = m.add_dataset(dataset_path, var = \"u_wind\", file_name = \"Wind Graph\")\n"
   ]
  },
  {
   "cell_type": "code",
   "execution_count": null,
   "metadata": {},
   "outputs": [],
   "source": [
    "m = sg.Map(center=[20, 0], zoom=2)\n",
    "image_options = {\n",
    "    \"Earth Image\": (\n",
    "        \"/Users/owenbales/Desktop/GIS/salmongis/docs/examples/Wind Graph.png\",\n",
    "        [[-90, -200], [90, 200]],\n",
    "    ),\n",
    "    \"Region Image\": (\n",
    "        \"https://example.com/region.png\",\n",
    "        [[10, -50], [20, 50]],\n",
    "    ),\n",
    "}\n",
    "m.add_image_gui_with_sliders(options=image_options)\n",
    "m"
   ]
  },
  {
   "cell_type": "code",
   "execution_count": null,
   "metadata": {},
   "outputs": [],
   "source": [
    "m = sg.Map(center=[20, 0], zoom=2)\n",
    "\n",
    "# Define the video URL and bounds\n",
    "video_url = \"https://i.imgur.com/LFqkZJn.mp4\"\n",
    "video_bounds = [[-10, -20], [10, 20]]\n",
    "\n",
    "# Add the video overlay to the map\n",
    "m.add_video(video_url=video_url, bounds=video_bounds, opacity=0.8, name=\"Sample Video\", zoom_to_layer=True)\n",
    "\n",
    "# Display the map\n",
    "m"
   ]
  },
  {
   "cell_type": "code",
   "execution_count": null,
   "metadata": {},
   "outputs": [],
   "source": [
    "# Create a map instance\n",
    "m = sg.Map(center=[20, 0], zoom=2)\n",
    "\n",
    "# Add a title to the map\n",
    "m.add_title(\n",
    "    title=\"My Custom Map\",\n",
    "    position=\"topleft\",\n",
    "    font_size=\"100px\",\n",
    "    font_color=\"red\",\n",
    ")\n",
    "image_options = {\n",
    "    \"Earth Image\": (\n",
    "        \"/Users/owenbales/Desktop/GIS/salmongis/docs/examples/Wind Graph.png\",\n",
    "        [[-90, -200], [90, 200]],\n",
    "    ),\n",
    "    \"Region Image\": (\n",
    "        \"https://example.com/region.png\",\n",
    "        [[10, -50], [20, 50]],\n",
    "    ),\n",
    "}\n",
    "m.add_image_gui_with_sliders(options=image_options)\n",
    "m"
   ]
  },
  {
   "cell_type": "code",
   "execution_count": null,
   "metadata": {},
   "outputs": [],
   "source": [
    "m = sg.Map(center=[20, 0], zoom=2)\n",
    "\n",
    "image_options = {\n",
    "    \"Earth Image\": (\n",
    "        \"/Users/owenbales/Desktop/GIS/salmongis/docs/examples/Wind Graph.png\",\n",
    "        [[-90, -200], [90, 200]],\n",
    "    ),\n",
    "    \"Region Image\": (\n",
    "        \"https://example.com/region.png\",\n",
    "        [[10, -50], [20, 50]],\n",
    "    ),\n",
    "}\n",
    "\n",
    "video_options = {\n",
    "    \"Sample Video 1\": \"/Users/owenbales/Desktop/GIS/salmongis/docs/examples/test1.mp4\",\n",
    "    \"Sample Video 2\": \"/Users/owenbales/Desktop/GIS/salmongis/docs/examples/test2.mp4\",\n",
    "}\n",
    "\n",
    "# Define GeoTIFF options\n",
    "geotiff_options = {\n",
    "    \"Elevation Data\": \"/Users/owenbales/Desktop/GIS/salmongis/docs/examples/1030010076004E00.tif\",\n",
    "    \"Land Cover\": \"/path/to/landcover.tif\",\n",
    "}\n",
    "\n",
    "m.add_combined_ui(options=image_options, video_options=video_options)\n",
    "m"
   ]
  }
 ],
 "metadata": {
  "kernelspec": {
   "display_name": "geo",
   "language": "python",
   "name": "python3"
  },
  "language_info": {
   "codemirror_mode": {
    "name": "ipython",
    "version": 3
   },
   "file_extension": ".py",
   "mimetype": "text/x-python",
   "name": "python",
   "nbconvert_exporter": "python",
   "pygments_lexer": "ipython3",
   "version": "3.11.8"
  }
 },
 "nbformat": 4,
 "nbformat_minor": 2
}

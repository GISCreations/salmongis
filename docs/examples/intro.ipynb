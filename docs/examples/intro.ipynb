{
 "cells": [
  {
   "cell_type": "code",
   "execution_count": 1,
   "metadata": {},
   "outputs": [],
   "source": [
    "import salmongis\n",
    "import salmongis.graphs as sg\n"
   ]
  },
  {
   "cell_type": "code",
   "execution_count": 2,
   "metadata": {},
   "outputs": [
    {
     "data": {
      "application/vnd.jupyter.widget-view+json": {
       "model_id": "b4687a30604748718b35ff3e7e5ac9ec",
       "version_major": 2,
       "version_minor": 0
      },
      "text/plain": [
       "Map(center=[47.653149, -117.59825], controls=(ZoomControl(options=['position', 'zoom_in_text', 'zoom_in_title'…"
      ]
     },
     "execution_count": 2,
     "metadata": {},
     "output_type": "execute_result"
    },
    {
     "name": "stderr",
     "output_type": "stream",
     "text": [
      "/opt/miniconda3/envs/geo/lib/python3.11/site-packages/rasterio/io.py:143: NotGeoreferencedWarning: Dataset has no geotransform, gcps, or rpcs. The identity matrix will be returned.\n",
      "  rd = writer(\n"
     ]
    }
   ],
   "source": [
    "#m = sg.Map(center=[39.494897, -108.507278], zoom=10)\n",
    "m = sg.Map(center=[47.653149, -117.59825], zoom = 10)\n",
    "image_options = {\n",
    "    \"Earth Image\": (\n",
    "        \"/Users/owenbales/Desktop/GIS/salmongis/docs/examples/Wind Graph.png\",\n",
    "        [[-90, -200], [90, 200]],\n",
    "    ),\n",
    "    \"Region Image\": (\n",
    "        \"https://example.com/region.png\",\n",
    "        [[10, -50], [20, 50]],\n",
    "    ),\n",
    "}\n",
    "video_options = {\n",
    "    \"Video 1\": \"/Users/owenbales/Desktop/GIS/salmongis/docs/examples/test1.mp4\",\n",
    "    \"Video 2\": \"/Users/owenbales/Desktop/GIS/salmongis/docs/examples/test2.mp4\",\n",
    "}\n",
    "video_bounds = [[-90, -200], [90, 200]]\n",
    "\n",
    "# Define COG options\n",
    "cog_options = {\n",
    "    \"COG Image 1\": (\n",
    "        \"https://opendata.digitalglobe.com/events/california-fire-2020/post-event/2020-08-14/pine-gulch-fire20/10300100AAC8DD00.tif\"\n",
    "    ),\n",
    "    \"COG Image 2\": (\n",
    "        \"https://github.com/opengeos/datasets/releases/download/places/wa_building_masks.tif\"\n",
    "    ),\n",
    "}\n",
    "m.add_combined_ui(options=image_options, video_options=video_options, cog_options=cog_options, video_bounds=video_bounds)\n",
    "m.save_map()\n",
    "m"
   ]
  }
 ],
 "metadata": {
  "kernelspec": {
   "display_name": "geo",
   "language": "python",
   "name": "python3"
  },
  "language_info": {
   "codemirror_mode": {
    "name": "ipython",
    "version": 3
   },
   "file_extension": ".py",
   "mimetype": "text/x-python",
   "name": "python",
   "nbconvert_exporter": "python",
   "pygments_lexer": "ipython3",
   "version": "3.11.8"
  }
 },
 "nbformat": 4,
 "nbformat_minor": 2
}

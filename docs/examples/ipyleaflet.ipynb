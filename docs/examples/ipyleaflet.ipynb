{
 "cells": [
  {
   "cell_type": "code",
   "execution_count": null,
   "metadata": {},
   "outputs": [],
   "source": []
  },
  {
   "cell_type": "markdown",
   "metadata": {},
   "source": [
    "# Ipyleaflet demo\n",
    "\n",
    "![Open In Colab](https://colab.research.google.com/assets/colab-badge.svg)](https:\n",
    "//github.com/GISCreations/salmongis/tree/main/docs/examples/ipyleaflet.ipynb)"
   ]
  },
  {
   "cell_type": "code",
   "execution_count": 1,
   "metadata": {},
   "outputs": [],
   "source": [
    "import salmongis"
   ]
  },
  {
   "cell_type": "code",
   "execution_count": 2,
   "metadata": {},
   "outputs": [
    {
     "name": "stderr",
     "output_type": "stream",
     "text": [
      "ERROR 1: dlopen(/opt/miniconda3/envs/geo/lib/gdalplugins/gdal_PDF.dylib, 0x0001): Library not loaded: @rpath/libpoppler.140.dylib\n",
      "  Referenced from: <9EB07566-187E-3EDD-B1D4-FE51413B064E> /opt/miniconda3/envs/geo/lib/gdalplugins/gdal_PDF.dylib\n",
      "  Reason: tried: '/opt/miniconda3/envs/geo/lib/gdalplugins/../libpoppler.140.dylib' (no such file), '/opt/miniconda3/envs/geo/lib/gdalplugins/../libpoppler.140.dylib' (no such file), '/opt/miniconda3/envs/geo/bin/../lib/libpoppler.140.dylib' (no such file), '/usr/local/lib/libpoppler.140.dylib' (no such file), '/usr/lib/libpoppler.140.dylib' (no such file, not in dyld cache)\n",
      "ERROR 1: dlopen(/opt/miniconda3/envs/geo/lib/gdalplugins/gdal_PDF.dylib, 0x0001): Library not loaded: @rpath/libpoppler.140.dylib\n",
      "  Referenced from: <9EB07566-187E-3EDD-B1D4-FE51413B064E> /opt/miniconda3/envs/geo/lib/gdalplugins/gdal_PDF.dylib\n",
      "  Reason: tried: '/opt/miniconda3/envs/geo/lib/gdalplugins/../libpoppler.140.dylib' (no such file), '/opt/miniconda3/envs/geo/lib/gdalplugins/../libpoppler.140.dylib' (no such file), '/opt/miniconda3/envs/geo/bin/../lib/libpoppler.140.dylib' (no such file), '/usr/local/lib/libpoppler.140.dylib' (no such file), '/usr/lib/libpoppler.140.dylib' (no such file, not in dyld cache)\n"
     ]
    },
    {
     "data": {
      "application/vnd.jupyter.widget-view+json": {
       "model_id": "1590edab70e3478386cec3bdc6912591",
       "version_major": 2,
       "version_minor": 0
      },
      "text/plain": [
       "Map(center=[40, -100], controls=(ZoomControl(options=['position', 'zoom_in_text', 'zoom_in_title', 'zoom_out_t…"
      ]
     },
     "execution_count": 2,
     "metadata": {},
     "output_type": "execute_result"
    }
   ],
   "source": [
    "m = salmongis.Map(center=[40, -100], zoom=4)\n",
    "m.add_basemap(basemap=\"Gaode.Satellite\")\n",
    "m.add_layer_control()\n",
    "m.add_vector(\n",
    "    \"https://github.com/opengeos/datasets/releases/download/world/countries.geojson\"\n",
    ")\n",
    "m"
   ]
  },
  {
   "cell_type": "code",
   "execution_count": 3,
   "metadata": {},
   "outputs": [
    {
     "data": {
      "application/vnd.jupyter.widget-view+json": {
       "model_id": "355dfe2a1d3143f1939f3fa2a73b06ce",
       "version_major": 2,
       "version_minor": 0
      },
      "text/plain": [
       "Map(center=[38.128, 2.588], controls=(ZoomControl(options=['position', 'zoom_in_text', 'zoom_in_title', 'zoom_…"
      ]
     },
     "execution_count": 3,
     "metadata": {},
     "output_type": "execute_result"
    }
   ],
   "source": [
    "from ipyleaflet import Map, basemaps\n",
    "\n",
    "center = [38.128, 2.588]\n",
    "zoom = 5\n",
    "Map(basemap=basemaps.OpenTopoMap, center=center, zoom=zoom)"
   ]
  },
  {
   "cell_type": "code",
   "execution_count": 4,
   "metadata": {},
   "outputs": [
    {
     "data": {
      "text/plain": [
       "'https://{s}.tile.opentopomap.org/{z}/{x}/{y}.png'"
      ]
     },
     "execution_count": 4,
     "metadata": {},
     "output_type": "execute_result"
    }
   ],
   "source": [
    "basemaps.OpenTopoMap.url"
   ]
  },
  {
   "cell_type": "code",
   "execution_count": null,
   "metadata": {},
   "outputs": [],
   "source": [
    "from salmongis import salmongis"
   ]
  },
  {
   "cell_type": "code",
   "execution_count": null,
   "metadata": {},
   "outputs": [],
   "source": [
    "import salmongis.salmongis as salmongis"
   ]
  },
  {
   "cell_type": "code",
   "execution_count": null,
   "metadata": {},
   "outputs": [],
   "source": [
    "m = salmongis.Map()\n",
    "m"
   ]
  },
  {
   "cell_type": "code",
   "execution_count": null,
   "metadata": {},
   "outputs": [
    {
     "data": {
      "application/vnd.jupyter.widget-view+json": {
       "model_id": "f40f289d1e6140a783f82b297aba2500",
       "version_major": 2,
       "version_minor": 0
      },
      "text/plain": [
       "Map(center=[40, -100], controls=(ZoomControl(options=['position', 'zoom_in_text', 'zoom_in_title', 'zoom_out_t…"
      ]
     },
     "execution_count": 4,
     "metadata": {},
     "output_type": "execute_result"
    }
   ],
   "source": []
  }
 ],
 "metadata": {
  "kernelspec": {
   "display_name": "geo",
   "language": "python",
   "name": "python3"
  },
  "language_info": {
   "codemirror_mode": {
    "name": "ipython",
    "version": 3
   },
   "file_extension": ".py",
   "mimetype": "text/x-python",
   "name": "python",
   "nbconvert_exporter": "python",
   "pygments_lexer": "ipython3",
   "version": "3.11.8"
  }
 },
 "nbformat": 4,
 "nbformat_minor": 2
}

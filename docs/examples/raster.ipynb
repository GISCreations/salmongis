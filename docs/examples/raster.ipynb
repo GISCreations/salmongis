{
 "cells": [
  {
   "cell_type": "markdown",
   "id": "472a97be",
   "metadata": {},
   "source": [
    "# Raster / Image / Video demo\n",
    "\n",
    "![Open In Colab](https://colab.research.google.com/assets/colab-badge.svg)](https:\n",
    "//github.com/GISCreations/salmongis/tree/main/docs/examples/raster.ipynb)"
   ]
  },
  {
   "cell_type": "code",
   "execution_count": 1,
   "id": "ab592ab3",
   "metadata": {},
   "outputs": [
    {
     "name": "stderr",
     "output_type": "stream",
     "text": [
      "/Users/owenbales/Desktop/GIS/salmongis/salmongis/salmongis.py:107: SyntaxWarning: list indices must be integers or slices, not tuple; perhaps you missed a comma?\n",
      "  bounds = [[-90, -180] [90,1801]]\n",
      "/Users/owenbales/Desktop/GIS/salmongis/salmongis/salmongis.py:119: SyntaxWarning: list indices must be integers or slices, not tuple; perhaps you missed a comma?\n",
      "  bounds = [[-90, -180] [90, 180]]\n"
     ]
    }
   ],
   "source": [
    "import salmongis"
   ]
  },
  {
   "cell_type": "code",
   "execution_count": 3,
   "id": "8eceb48c",
   "metadata": {},
   "outputs": [
    {
     "data": {
      "application/vnd.jupyter.widget-view+json": {
       "model_id": "381c91f5815047c88c601715ad85cc23",
       "version_major": 2,
       "version_minor": 0
      },
      "text/plain": [
       "Map(center=[40, -100], controls=(ZoomControl(options=['position', 'zoom_in_text', 'zoom_in_title', 'zoom_out_t…"
      ]
     },
     "execution_count": 3,
     "metadata": {},
     "output_type": "execute_result"
    }
   ],
   "source": [
    "m = salmongis.Map(center=[40, -100], zoom=4)\n",
    "m.add_layer_control()\n",
    "m"
   ]
  },
  {
   "cell_type": "code",
   "execution_count": null,
   "id": "bc345a90",
   "metadata": {},
   "outputs": [],
   "source": [
    "m.add_raster(\"https://github.com/opengeos/datasets/releases/download/raster/dem_90m.tif\")"
   ]
  },
  {
   "cell_type": "code",
   "execution_count": null,
   "id": "923d026c",
   "metadata": {},
   "outputs": [],
   "source": [
    "url=\"https://geography.utk.edu/wp-content/uploads/2023/10/Michael_Camponovo.800x1200.webp\"\n",
    "bounds= ( (13, -150), (40, -120) )\n",
    "m.add_image(url, bounds)\n",
    "m"
   ]
  },
  {
   "cell_type": "code",
   "execution_count": null,
   "id": "9f9adde7",
   "metadata": {},
   "outputs": [],
   "source": [
    "url=\"https://imagery.nationalmap.gov/arcgis/services/USGSNAIPPlus/ImageServer/WMSServer?\"\n",
    "layers = \"USGSNAIPPlus:FalseColorComposite\"\n",
    "m.add_wms_layer(url, layers, format = \"image/png\", transparent=True)\n",
    "m"
   ]
  },
  {
   "cell_type": "code",
   "execution_count": 5,
   "id": "01bea480",
   "metadata": {},
   "outputs": [
    {
     "data": {
      "application/vnd.jupyter.widget-view+json": {
       "model_id": "381c91f5815047c88c601715ad85cc23",
       "version_major": 2,
       "version_minor": 0
      },
      "text/plain": [
       "Map(bottom=1851.0, center=[40, -100], controls=(ZoomControl(options=['position', 'zoom_in_text', 'zoom_in_titl…"
      ]
     },
     "execution_count": 5,
     "metadata": {},
     "output_type": "execute_result"
    }
   ],
   "source": [
    "url = \"https://static-assets.mapbox.com/mapbox-gl-js/drone.mp4\"\n",
    "bounds = ((37.562, -122), (37, -122.5))\n",
    "m.add_video(url, bounds)\n",
    "m"
   ]
  }
 ],
 "metadata": {
  "kernelspec": {
   "display_name": "geo",
   "language": "python",
   "name": "python3"
  },
  "language_info": {
   "codemirror_mode": {
    "name": "ipython",
    "version": 3
   },
   "file_extension": ".py",
   "mimetype": "text/x-python",
   "name": "python",
   "nbconvert_exporter": "python",
   "pygments_lexer": "ipython3",
   "version": "3.11.8"
  }
 },
 "nbformat": 4,
 "nbformat_minor": 5
}

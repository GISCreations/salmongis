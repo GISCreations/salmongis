{
 "cells": [
  {
   "cell_type": "markdown",
   "id": "472a97be",
   "metadata": {},
   "source": [
    "# Raster / Video / Image Demo\n",
    "\n",
    "[![Open In Colab](https://colab.research.google.com/assets/colab-badge.svg)](https://github.com/GISCreations/salmongis/tree/main/docs/examples/raster.ipynb)"
   ]
  },
  {
   "cell_type": "code",
   "execution_count": 1,
   "id": "ab592ab3",
   "metadata": {},
   "outputs": [],
   "source": [
    "import salmongis"
   ]
  },
  {
   "cell_type": "code",
   "execution_count": 2,
   "id": "8eceb48c",
   "metadata": {},
   "outputs": [
    {
     "data": {
      "application/vnd.jupyter.widget-view+json": {
       "model_id": "faeaa000dcba4047872a0d13e284569c",
       "version_major": 2,
       "version_minor": 0
      },
      "text/plain": [
       "Map(center=[40, -100], controls=(ZoomControl(options=['position', 'zoom_in_text', 'zoom_in_title', 'zoom_out_t…"
      ]
     },
     "execution_count": 2,
     "metadata": {},
     "output_type": "execute_result"
    }
   ],
   "source": [
    "m = salmongis.Map(center=[40, -100], zoom=4)\n",
    "m.add_layer_control()\n",
    "m"
   ]
  },
  {
   "cell_type": "code",
   "execution_count": 3,
   "id": "bc345a90",
   "metadata": {},
   "outputs": [],
   "source": [
    "filename = \"https://github.com/opengeos/datasets/releases/download/raster/LC09_039035_20240708_90m.tif\"\n",
    "m.add_raster(filename, indexes=[5, 4, 3,], name=\"landsat\", opacity=0.5)"
   ]
  },
  {
   "cell_type": "code",
   "execution_count": null,
   "id": "923d026c",
   "metadata": {},
   "outputs": [],
   "source": [
    "url=\"https://geography.utk.edu/wp-content/uploads/2023/10/Michael_Camponovo.800x1200.webp\"\n",
    "bounds= ( (13, -150), (40, -120) )\n",
    "m.add_image(url, bounds)\n",
    "m"
   ]
  },
  {
   "cell_type": "code",
   "execution_count": null,
   "id": "9f9adde7",
   "metadata": {},
   "outputs": [],
   "source": [
    "url=\"https://imagery.nationalmap.gov/arcgis/services/USGSNAIPPlus/ImageServer/WMSServer?\"\n",
    "layers = \"USGSNAIPPlus:FalseColorComposite\"\n",
    "m.add_wms_layer(url, layers, format = \"image/png\", transparent=True)\n",
    "m"
   ]
  },
  {
   "cell_type": "code",
   "execution_count": null,
   "id": "01bea480",
   "metadata": {},
   "outputs": [],
   "source": [
    "url = \"https://static-assets.mapbox.com/mapbox-gl-js/drone.mp4\"\n",
    "bounds = ((37.56238816, -122.515963), (37.563391708, -122.5130939))\n",
    "m.add_video(url, bounds)\n",
    "m"
   ]
  }
 ],
 "metadata": {
  "kernelspec": {
   "display_name": "geo",
   "language": "python",
   "name": "python3"
  },
  "language_info": {
   "codemirror_mode": {
    "name": "ipython",
    "version": 3
   },
   "file_extension": ".py",
   "mimetype": "text/x-python",
   "name": "python",
   "nbconvert_exporter": "python",
   "pygments_lexer": "ipython3",
   "version": "3.11.8"
  }
 },
 "nbformat": 4,
 "nbformat_minor": 5
}

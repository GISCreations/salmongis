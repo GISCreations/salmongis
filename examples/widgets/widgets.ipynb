{
 "cells": [
  {
   "cell_type": "markdown",
   "id": "77e4afca",
   "metadata": {},
   "source": [
    "# Widget Basemaps demo\n",
    "\n",
    "![Open In Colab](https://colab.research.google.com/assets/colab-badge.svg)](https://github.com/GISCreations/salmongis/blob/main/docs/examples/widgets.ipynb)"
   ]
  },
  {
   "cell_type": "code",
   "execution_count": 1,
   "id": "54f4374e",
   "metadata": {},
   "outputs": [
    {
     "name": "stderr",
     "output_type": "stream",
     "text": [
      "/Users/owenbales/Desktop/GIS/salmongis/salmongis/salmongis.py:108: SyntaxWarning: list indices must be integers or slices, not tuple; perhaps you missed a comma?\n",
      "  bounds = [[-90, -180] [90,1801]]\n",
      "/Users/owenbales/Desktop/GIS/salmongis/salmongis/salmongis.py:120: SyntaxWarning: list indices must be integers or slices, not tuple; perhaps you missed a comma?\n",
      "  bounds = [[-90, -180] [90, 180]]\n"
     ]
    }
   ],
   "source": [
    "import salmongis"
   ]
  },
  {
   "cell_type": "code",
   "execution_count": 2,
   "id": "6a750719",
   "metadata": {},
   "outputs": [
    {
     "data": {
      "application/vnd.jupyter.widget-view+json": {
       "model_id": "a33c0c387cf84966bb09cfc586505556",
       "version_major": 2,
       "version_minor": 0
      },
      "text/plain": [
       "Map(center=[40, -100], controls=(ZoomControl(options=['position', 'zoom_in_text', 'zoom_in_title', 'zoom_out_t…"
      ]
     },
     "execution_count": 2,
     "metadata": {},
     "output_type": "execute_result"
    }
   ],
   "source": [
    "m = salmongis.Map(center=[40, -100], zoom=4)\n",
    "m.add_basemap_gui()\n",
    "m"
   ]
  }
 ],
 "metadata": {
  "kernelspec": {
   "display_name": "geo",
   "language": "python",
   "name": "python3"
  },
  "language_info": {
   "codemirror_mode": {
    "name": "ipython",
    "version": 3
   },
   "file_extension": ".py",
   "mimetype": "text/x-python",
   "name": "python",
   "nbconvert_exporter": "python",
   "pygments_lexer": "ipython3",
   "version": "3.11.8"
  }
 },
 "nbformat": 4,
 "nbformat_minor": 5
}

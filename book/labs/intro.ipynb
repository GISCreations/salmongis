{
 "cells": [
  {
   "cell_type": "code",
   "execution_count": 1,
   "metadata": {},
   "outputs": [
    {
     "name": "stderr",
     "output_type": "stream",
     "text": [
      "/Users/owenbales/Desktop/GIS/salmongis/salmongis/salmongis.py:107: SyntaxWarning: list indices must be integers or slices, not tuple; perhaps you missed a comma?\n",
      "  bounds = [[-90, -180] [90,1801]]\n"
     ]
    }
   ],
   "source": [
    "import salmongis"
   ]
  },
  {
   "cell_type": "code",
   "execution_count": 2,
   "metadata": {},
   "outputs": [
    {
     "name": "stderr",
     "output_type": "stream",
     "text": [
      "ERROR 1: dlopen(/opt/miniconda3/envs/geo/lib/gdalplugins/gdal_PDF.dylib, 0x0001): Library not loaded: @rpath/libpoppler.140.dylib\n",
      "  Referenced from: <9EB07566-187E-3EDD-B1D4-FE51413B064E> /opt/miniconda3/envs/geo/lib/gdalplugins/gdal_PDF.dylib\n",
      "  Reason: tried: '/opt/miniconda3/envs/geo/lib/gdalplugins/../libpoppler.140.dylib' (no such file), '/opt/miniconda3/envs/geo/lib/gdalplugins/../libpoppler.140.dylib' (no such file), '/opt/miniconda3/envs/geo/bin/../lib/libpoppler.140.dylib' (no such file), '/usr/local/lib/libpoppler.140.dylib' (no such file), '/usr/lib/libpoppler.140.dylib' (no such file, not in dyld cache)\n",
      "ERROR 1: dlopen(/opt/miniconda3/envs/geo/lib/gdalplugins/gdal_PDF.dylib, 0x0001): Library not loaded: @rpath/libpoppler.140.dylib\n",
      "  Referenced from: <9EB07566-187E-3EDD-B1D4-FE51413B064E> /opt/miniconda3/envs/geo/lib/gdalplugins/gdal_PDF.dylib\n",
      "  Reason: tried: '/opt/miniconda3/envs/geo/lib/gdalplugins/../libpoppler.140.dylib' (no such file), '/opt/miniconda3/envs/geo/lib/gdalplugins/../libpoppler.140.dylib' (no such file), '/opt/miniconda3/envs/geo/bin/../lib/libpoppler.140.dylib' (no such file), '/usr/local/lib/libpoppler.140.dylib' (no such file), '/usr/lib/libpoppler.140.dylib' (no such file, not in dyld cache)\n"
     ]
    },
    {
     "data": {
      "application/vnd.jupyter.widget-view+json": {
       "model_id": "790e41c2bcf6407186c69be7cf2ca32a",
       "version_major": 2,
       "version_minor": 0
      },
      "text/plain": [
       "Map(center=[40, -100], controls=(ZoomControl(options=['position', 'zoom_in_text', 'zoom_in_title', 'zoom_out_t…"
      ]
     },
     "execution_count": 2,
     "metadata": {},
     "output_type": "execute_result"
    }
   ],
   "source": [
    "m = salmongis.Map(center=[40, -100], zoom=4)\n",
    "m.add_basemap(basemap=\"Gaode.Satellite\")\n",
    "m.add_layer_control()\n",
    "m.add_vector(\n",
    "    \"https://github.com/opengeos/datasets/releases/download/world/countries.geojson\"\n",
    ")\n",
    "m"
   ]
  },
  {
   "cell_type": "code",
   "execution_count": null,
   "metadata": {},
   "outputs": [],
   "source": [
    "from ipyleaflet import Map, basemaps\n",
    "\n",
    "center = [38.128, 2.588]\n",
    "zoom = 5\n",
    "Map(basemap=basemaps.OpenTopoMap, center=center, zoom=zoom)"
   ]
  },
  {
   "cell_type": "code",
   "execution_count": null,
   "metadata": {},
   "outputs": [],
   "source": [
    "basemaps.OpenTopoMap.url"
   ]
  },
  {
   "cell_type": "code",
   "execution_count": null,
   "metadata": {},
   "outputs": [],
   "source": [
    "from salmongis import salmongis"
   ]
  },
  {
   "cell_type": "code",
   "execution_count": null,
   "metadata": {},
   "outputs": [],
   "source": [
    "import salmongis.salmongis as salmongis"
   ]
  },
  {
   "cell_type": "code",
   "execution_count": 2,
   "metadata": {},
   "outputs": [
    {
     "data": {
      "application/vnd.jupyter.widget-view+json": {
       "model_id": "893ae84075154d3f91fb0fd0c7d80050",
       "version_major": 2,
       "version_minor": 0
      },
      "text/plain": [
       "Map(center=[20, 0], controls=(ZoomControl(options=['position', 'zoom_in_text', 'zoom_in_title', 'zoom_out_text…"
      ]
     },
     "execution_count": 2,
     "metadata": {},
     "output_type": "execute_result"
    }
   ],
   "source": [
    "m = salmongis.Map()\n",
    "m"
   ]
  },
  {
   "cell_type": "code",
   "execution_count": 4,
   "metadata": {},
   "outputs": [],
   "source": [
    "m.add_raster(\"https://github.com/opengeos/datasets/releases/download/raster/dem_90m.tif\")"
   ]
  },
  {
   "cell_type": "code",
   "execution_count": 4,
   "metadata": {},
   "outputs": [],
   "source": [
    "url=\"https://geography.utk.edu/wp-content/uploads/2023/10/Michael_Camponovo.800x1200.webp\"\n",
    "bounds= ( (13, -150), (40, -120) )"
   ]
  },
  {
   "cell_type": "code",
   "execution_count": 5,
   "metadata": {},
   "outputs": [],
   "source": [
    "m.add_image(url, bounds)"
   ]
  }
 ],
 "metadata": {
  "kernelspec": {
   "display_name": "geo",
   "language": "python",
   "name": "python3"
  },
  "language_info": {
   "codemirror_mode": {
    "name": "ipython",
    "version": 3
   },
   "file_extension": ".py",
   "mimetype": "text/x-python",
   "name": "python",
   "nbconvert_exporter": "python",
   "pygments_lexer": "ipython3",
   "version": "3.11.8"
  }
 },
 "nbformat": 4,
 "nbformat_minor": 2
}
